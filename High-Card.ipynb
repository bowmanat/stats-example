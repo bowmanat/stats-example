{
 "cells": [
  {
   "cell_type": "markdown",
   "metadata": {},
   "source": [
    "# Activity\n",
    "\n",
    "Try to write the code to answer the following\n",
    "question.  Feel free to work in small groups.\n",
    "\n",
    "Players A, B, and C play a card game. The rules of the game are\n",
    "as follows:\n",
    "* Player A always plays first.\n",
    "* Player A draws a card. If it is a king, the game ends and A wins.\n",
    "* Otherwise, B draws next. If B draws a Queen or King, the game ends and B\n",
    "  wins.\n",
    "* Otherwise, C draws next. If C draws a Jack, Queen, or King, the game ends\n",
    "  and C wins.\n",
    "* If the game is still going, A plays again and can win with a 10 or higher\n",
    "  (10, J, Q, K).\n",
    "* The game continues cycling in this manner until a player wins.\n",
    "* Aces are low (an ace is a 1)\n",
    "* The drawing is done without replacement\n",
    "\n",
    "Player A wins 12 out of 20 games. Should we believe that A is stacking the\n",
    "deck?\n",
    "\n",
    "Try writing pseudocode (or actual code) that would answer this question.\n",
    "Start by assuming you have a function that plays a round of the game\n",
    "(you can always write this function later).\n",
    "Feel free to work alone or split into small groups.\n",
    "If you're stuck, just ask!"
   ]
  },
  {
   "cell_type": "code",
   "execution_count": null,
   "metadata": {},
   "outputs": [],
   "source": [
    "'''\n",
    "\n",
    "\n",
    "\n",
    "\n",
    "\n",
    "\n",
    "\n",
    "\n",
    "\n",
    "\n",
    "\n",
    "\n",
    "\n",
    "\n",
    "\n",
    "\n",
    "\n",
    "\n",
    "\n",
    "\n",
    "\n",
    "\n",
    "'''"
   ]
  },
  {
   "cell_type": "code",
   "execution_count": null,
   "metadata": {},
   "outputs": [],
   "source": [
    "import matplotlib.pyplot as plt\n",
    "import numpy as np\n",
    "\n",
    "\n",
    "plt.figure()\n",
    "all_wins = []"
   ]
  },
  {
   "cell_type": "code",
   "execution_count": null,
   "metadata": {},
   "outputs": [],
   "source": [
    "'''\n",
    "This cell gives the function we need to simulate the game.\n",
    "'''\n",
    "from random import shuffle\n",
    "\n",
    "\n",
    "def play_rounds(n_rounds):\n",
    "    total_wins = 0\n",
    "    for i in range(n_rounds):\n",
    "        deck = list(range(1, 14))*4  # represent each card by a number\n",
    "        shuffle(deck)\n",
    "        \n",
    "        card = -1\n",
    "        min_winning_card = 14\n",
    "        current_player = 2\n",
    "        # keep going as long as the last card drawn was too small to win\n",
    "        while card < min_winning_card:\n",
    "            card = deck.pop()  # remove a card from the deck\n",
    "            min_winning_card -= 1  # the value needed to win decreases each round\n",
    "            current_player = (current_player + 1) % 3\n",
    "        if current_player == 0:\n",
    "            total_wins += 1\n",
    "    return total_wins"
   ]
  },
  {
   "cell_type": "markdown",
   "metadata": {},
   "source": [
    "The next few cells show how to build up a histogram of results.\n",
    "You don't really need to do this, but it can be interesting to see what you are working with."
   ]
  },
  {
   "cell_type": "code",
   "execution_count": null,
   "metadata": {},
   "outputs": [],
   "source": [
    "n_rounds_per_trial = 20\n",
    "\n",
    "wins = play_rounds(n_rounds_per_trial)\n",
    "all_wins.append(wins)\n",
    "\n",
    "bins = np.arange(0, 15 + 1.5) - 0.5\n",
    "plt.hist(all_wins, bins, color='c', edgecolor='k', stacked=True)\n",
    "plt.gca().set_xticks(bins + 0.5);\n",
    "plt.gca().set_yticks(np.arange(0, 21, 2));\n",
    "plt.ylim(0, 20)\n",
    "plt.xlabel('# wins');\n",
    "plt.ylabel('# occurences');"
   ]
  },
  {
   "cell_type": "code",
   "execution_count": null,
   "metadata": {},
   "outputs": [],
   "source": [
    "n_trials = 10000\n",
    "n_rounds_per_trial = 20\n",
    "\n",
    "all_wins = []\n",
    "for i in range(n_trials):\n",
    "    wins = play_rounds(n_rounds_per_trial)\n",
    "    all_wins.append(wins)\n",
    "\n",
    "bins = np.arange(0, max(all_wins) + 1.5) - 0.5\n",
    "plt.figure()\n",
    "plt.hist(all_wins, bins, color='c', edgecolor='k', weights=np.ones_like(all_wins)/len(all_wins))\n",
    "plt.gca().set_xticks(bins + 0.5);\n",
    "plt.axvline(12, color='k', linestyle='dashed', linewidth=1);\n",
    "plt.xlabel('# wins');\n",
    "plt.ylabel('probability');"
   ]
  },
  {
   "cell_type": "code",
   "execution_count": null,
   "metadata": {},
   "outputs": [],
   "source": [
    "print('p = ', np.sum(np.array(all_wins) >= 12)/n_trials)"
   ]
  },
  {
   "cell_type": "markdown",
   "metadata": {},
   "source": [
    "The code snippet below is all we really need to run once we've created the function to simulate our scenario.\n",
    "Just like we saw earlier, as long as we can simulate something, all we have to do to perform a hypothesis test is to count."
   ]
  },
  {
   "cell_type": "code",
   "execution_count": null,
   "metadata": {},
   "outputs": [],
   "source": [
    "n_trials = 10000\n",
    "n_rounds_per_trial = 20\n",
    "\n",
    "count = 0\n",
    "for i in range(n_trials):\n",
    "    wins = play_rounds(n_rounds_per_trial)\n",
    "    if wins >= 12:\n",
    "        count += 1\n",
    "\n",
    "print('p = ', count/n_trials)"
   ]
  }
 ],
 "metadata": {
  "kernelspec": {
   "display_name": "Python 3",
   "language": "python",
   "name": "python3"
  },
  "language_info": {
   "codemirror_mode": {
    "name": "ipython",
    "version": 3
   },
   "file_extension": ".py",
   "mimetype": "text/x-python",
   "name": "python",
   "nbconvert_exporter": "python",
   "pygments_lexer": "ipython3",
   "version": "3.7.2"
  }
 },
 "nbformat": 4,
 "nbformat_minor": 2
}
