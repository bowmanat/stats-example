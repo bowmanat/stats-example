{
 "cells": [
  {
   "cell_type": "markdown",
   "metadata": {},
   "source": [
    "A downside to simulation is that we are finding an approximate p-value.\n",
    "How do we know how accurate the value is?\n",
    "\n",
    "If you run the code below several times, you will notice that the p-value changes slightly each time.\n",
    "How can we be sure that it won't drop below 0.05 and give us a spurious result?"
   ]
  },
  {
   "cell_type": "code",
   "execution_count": null,
   "metadata": {},
   "outputs": [],
   "source": [
    "import matplotlib.pyplot as plt\n",
    "import numpy as np\n",
    "\n",
    "\n",
    "n_trials = 10000\n",
    "n_rolls_per_trial = 24\n",
    "\n",
    "all_sixes = []\n",
    "for i in range(n_trials):\n",
    "    rolls = np.random.randint(1, 7, size=n_rolls_per_trial)\n",
    "    num_sixes = np.sum(rolls == 6)\n",
    "    all_sixes.append(num_sixes)\n",
    "\n",
    "bins = np.arange(0, max(all_sixes) + 1.5) - 0.5\n",
    "plt.hist(all_sixes, bins, color='c', edgecolor='k', weights=np.ones_like(all_sixes)/len(all_sixes))\n",
    "plt.gca().set_xticks(bins + 0.5);\n",
    "plt.axvline(7, color='k', linestyle='dashed', linewidth=1)\n",
    "plt.xlabel('# sixes');\n",
    "plt.ylabel('probability');\n",
    "\n",
    "print('p = ', np.sum(np.array(all_sixes) >= 7)/n_trials)"
   ]
  },
  {
   "cell_type": "markdown",
   "metadata": {},
   "source": [
    "This cell lets us play around with `n_trials` and see how it changes our results.\n",
    "You can see that it's just a double for-loop.\n",
    "The code finds the average number of 6s in 24 rolls by performing 24 x `n_trials` rolls.\n",
    "\n",
    "We are finding the average of number of 6s through simulation many times to see how much variability there is in the result.\n",
    "Just like a \"trial\" is rolling a die 24 times,\n",
    "an \"experiment\" is \"rolling a die 24 times `n_trials` times\".\n",
    "(These are not standard names.  I just made them up because I needed variable names.)\n",
    "\n",
    "Change the value of `n_trials` to a few very different numbers and see what it does to the resulting histogram.\n",
    "Do larger values of `n_trials` make the histogram narrower, or wider?\n",
    "\n",
    "Be careful -- this code can take a while to run if you set the numbers too large."
   ]
  },
  {
   "cell_type": "code",
   "execution_count": null,
   "metadata": {},
   "outputs": [],
   "source": [
    "n_rolls_per_trial = 24\n",
    "n_trials = 500\n",
    "n_experiments = 1000  # a single 'experiment' is running n_trials times\n",
    "\n",
    "avg_sixes = []\n",
    "for i in range(n_experiments):\n",
    "    total_sixes = 0\n",
    "    for j in range(n_trials):\n",
    "        rolls = np.random.randint(1, 7, size=n_rolls_per_trial)\n",
    "        num_sixes = np.sum(rolls == 6)\n",
    "        total_sixes += num_sixes\n",
    "    avg_sixes.append(total_sixes/n_trials)\n",
    "\n",
    "plt.hist(avg_sixes, color='c', edgecolor='k', weights=np.ones_like(avg_sixes)/len(avg_sixes))\n",
    "plt.xlabel('# sixes');\n",
    "plt.ylabel('probability');"
   ]
  },
  {
   "cell_type": "markdown",
   "metadata": {},
   "source": [
    "Same idea, but now with p-values.\n",
    "What kind of range of p-values will we see for different numbers of `n_trials`?\n",
    "How big does `n_trials` have to be before we are almost certain not to dip below 0.05 and get a bad result?"
   ]
  },
  {
   "cell_type": "code",
   "execution_count": null,
   "metadata": {},
   "outputs": [],
   "source": [
    "n_rolls_per_trial = 24\n",
    "n_trials = 500\n",
    "n_experiments = 1000  # a single 'experiment' is running n_trials times\n",
    "\n",
    "p_values = []\n",
    "for i in range(n_experiments):\n",
    "    count = 0\n",
    "    for j in range(n_trials):\n",
    "        rolls = np.random.randint(1, 7, size=n_rolls_per_trial)\n",
    "        num_sixes = np.sum(rolls == 6)\n",
    "        if num_sixes >= 7:\n",
    "            count += 1\n",
    "    p_values.append(count/n_trials)\n",
    "\n",
    "plt.hist(p_values, color='c', edgecolor='k', weights=np.ones_like(p_values)/len(p_values))\n",
    "plt.xlabel('p-value');\n",
    "plt.ylabel('probability');"
   ]
  },
  {
   "cell_type": "markdown",
   "metadata": {},
   "source": [
    "We can see that large numbers of trials give us more accurate results, but what is the overall pattern?\n",
    "This code plots an estimated p-value vs `n_trials`.\n",
    "You can see that the estimated p-values get tighter and tighter around the true value as `n_trials` increases,\n",
    "but that we see less improvement between, say, 600 and 100 than we do between 0 and 400.\n",
    "Ensuring an accurate approximate p-value can require quite a few iterations."
   ]
  },
  {
   "cell_type": "code",
   "execution_count": null,
   "metadata": {},
   "outputs": [],
   "source": [
    "n_rolls_per_trial = 24\n",
    "trial_options = range(10, 1000, 1)\n",
    "\n",
    "ps = []\n",
    "for n_trials in trial_options:\n",
    "    count = 0\n",
    "    for i in range(n_trials):\n",
    "        rolls = np.random.randint(1, 7, size=n_rolls_per_trial)\n",
    "        num_sixes = np.sum(rolls == 6)\n",
    "        if num_sixes >= 7:\n",
    "            count += 1\n",
    "    ps.append(count/n_trials)\n",
    "\n",
    "plt.plot(trial_options, ps, 'o')\n",
    "plt.xlabel('# trials');\n",
    "plt.ylabel('estimated p-value');"
   ]
  },
  {
   "cell_type": "markdown",
   "metadata": {},
   "source": [
    "Can we find a numerical relationship between `n_trials` and the tightness of our approximation?\n",
    "The next snippet groups our approximate p-values into bins of 50 and computes their standard deviation."
   ]
  },
  {
   "cell_type": "code",
   "execution_count": null,
   "metadata": {},
   "outputs": [],
   "source": [
    "std_devs = []\n",
    "bins = np.arange(10, 1000, 50)\n",
    "\n",
    "for i in range(len(bins)):\n",
    "    subset = ps[i*50:(i+1)*50]\n",
    "    std_devs.append(np.std(subset))\n",
    "\n",
    "plt.plot(bins, std_devs, 'o--');\n",
    "plt.xlabel('n_trials');\n",
    "plt.ylabel('standard deviation');"
   ]
  },
  {
   "cell_type": "markdown",
   "metadata": {},
   "source": [
    "The above plot might not look like a clear to the human eye.\n",
    "Let's plot it in log-log instead.\n",
    "\n",
    "If you plot a relationship like\n",
    "$$y = ax^b$$\n",
    "in log-log, you see\n",
    "$$\\log(y) = \\log(a) + b \\log(x).$$\n",
    "\n",
    "So, if you have a straight line in a log-log plot, there is a relationship like\n",
    "$$y= ax^b,$$\n",
    "and the slope of the line gives you $b$."
   ]
  },
  {
   "cell_type": "code",
   "execution_count": null,
   "metadata": {},
   "outputs": [],
   "source": [
    "plt.loglog(bins, std_devs, 'o--', basex=2, basey=2);"
   ]
  },
  {
   "cell_type": "markdown",
   "metadata": {},
   "source": [
    "The above plot is roughly a straight line with a slope of $-\\frac 1 2$.\n",
    "So, the standard deviation of your approximate p-values decreases as $\\frac{1}{\\sqrt{n\\_trials}}$.\n",
    "This means that if you want to decrease your standard deviation by a factor of 2,\n",
    "you will need to use $2^2 = 4$ times as many trials.\n",
    "\n",
    "This relationship is not a coincidence, and it is not unique to this example.\n",
    "What you are seeing is the **Central Limit Theorem**!"
   ]
  },
  {
   "cell_type": "code",
   "execution_count": null,
   "metadata": {},
   "outputs": [],
   "source": [
    "'''\n",
    "This is just to show what a log-log plot looks like if you use exactly 1/sqrt(n) (= n^(-1/2)) as your function.\n",
    "'''\n",
    "# Generic log-log plot\n",
    "ns = np.arange(1, 10000)\n",
    "plt.loglog(ns, 1/np.sqrt(ns))"
   ]
  }
 ],
 "metadata": {
  "kernelspec": {
   "display_name": "Python 3",
   "language": "python",
   "name": "python3"
  },
  "language_info": {
   "codemirror_mode": {
    "name": "ipython",
    "version": 3
   },
   "file_extension": ".py",
   "mimetype": "text/x-python",
   "name": "python",
   "nbconvert_exporter": "python",
   "pygments_lexer": "ipython3",
   "version": "3.7.2"
  }
 },
 "nbformat": 4,
 "nbformat_minor": 2
}
