{
 "cells": [
  {
   "cell_type": "markdown",
   "metadata": {},
   "source": [
    "# Hypothesis testing for Computer Scientists\n",
    "\n",
    "Assume we roll a 6-sided die 24 times and it comes up as the number 6 7 times.  We want to know whether the die is fair.\n",
    "\n",
    "We would expect a 6 to occur on 1/6 rolls.  With 24 rolls, we would expect 4 sixes.  So, we are above what we expect from a fair die, but are we far enough above to believe strongly that the die is unfair?\n",
    "\n",
    "This is typically handled by a hypothesis test.  We first assume the die is fair.  We then figure out what distribution a fair die would follow (binomial).  Then, we figure out which paramters the binomial distribution takes (n=24, p=1/6). Next, we calculate (1 - binomial_cdf(24, 1/6, 6)).\n",
    "\n",
    "What do we do if we don't remember how to run a hypothesis test from our stats class?  Think about the big picture of what we are trying to answer.  One way to think of probability is to ask \"If we run this scenario lots and lots of times, what percent of times will this event occur?\".  So, we run the scenario (rolling a 6-sided die 24 times) many times and see what percent of times have the questionable result (7 or more 6s).  Typically, if the result occurs more than 5% of the time, we decide we do not have enough evidence to say that the process that actually occurred was different from the assumed process (that the die was, in fact, unfair).\n",
    "\n",
    "Credit:  There is a great presentation of this idea and more available at\n",
    "https://speakerdeck.com/jakevdp/statistics-for-hackers .  The presentation was given by Jake VanderPlas at PyCon 2016 and is titled \"Statistics for Hackers\"."
   ]
  },
  {
   "cell_type": "code",
   "execution_count": null,
   "metadata": {},
   "outputs": [],
   "source": [
    "import matplotlib.pyplot as plt\n",
    "import numpy as np\n",
    "\n",
    "\n",
    "plt.figure()\n",
    "all_sixes = []"
   ]
  },
  {
   "cell_type": "markdown",
   "metadata": {},
   "source": [
    "First, we set up code to simulate our scenario.\n",
    "The next cell simulates rolling a 6-sided die 24 times and counts the number of 6s.\n",
    "If you run the cell several times, it will keep track of the rolls so far and start to build up a histogram of results."
   ]
  },
  {
   "cell_type": "code",
   "execution_count": null,
   "metadata": {},
   "outputs": [],
   "source": [
    "n_rolls_per_trial = 24\n",
    "\n",
    "rolls = np.random.randint(1, 7, size=n_rolls_per_trial)  # Generate 24 \"dice rolls\"\n",
    "num_sixes = np.sum(rolls == 6)  # count the number of 6s\n",
    "all_sixes.append(num_sixes)  # keep a running list of how many 6s we have seen each time\n",
    "\n",
    "# This is all just plotting code to make the histogram look nice\n",
    "bins = np.arange(0, 12 + 1.5) - 0.5\n",
    "plt.hist(all_sixes, bins, color='c', edgecolor='k', stacked=True)\n",
    "plt.gca().set_xticks(bins + 0.5);\n",
    "plt.gca().set_yticks(np.arange(0, 21, 2));\n",
    "plt.ylim(0, 20)\n",
    "plt.xlabel('# sixes');\n",
    "plt.ylabel('# occurences');"
   ]
  },
  {
   "cell_type": "markdown",
   "metadata": {},
   "source": [
    "This next cell generates a histogram by repeating the previous code `n_trials` times.\n",
    "This should give you an idea of the overall shape of the probability distribution under the null hypothesis,\n",
    "i.e., what we would expect our scenario to look like if the coin were fair."
   ]
  },
  {
   "cell_type": "code",
   "execution_count": null,
   "metadata": {},
   "outputs": [],
   "source": [
    "n_trials = 10000  # a single \"trial\" is rolling a die 24 times\n",
    "n_rolls_per_trial = 24\n",
    "\n",
    "all_sixes = []\n",
    "for i in range(n_trials):\n",
    "    rolls = np.random.randint(1, 7, size=n_rolls_per_trial)\n",
    "    num_sixes = np.sum(rolls == 6)\n",
    "    all_sixes.append(num_sixes)\n",
    "\n",
    "bins = np.arange(0, max(all_sixes) + 1.5) - 0.5\n",
    "plt.figure()\n",
    "plt.hist(all_sixes, bins, color='c', edgecolor='k',\n",
    "         weights=np.ones_like(all_sixes)/len(all_sixes))\n",
    "plt.gca().set_xticks(bins + 0.5);\n",
    "plt.axvline(7, color='k', linestyle='dashed', linewidth=1);\n",
    "plt.xlabel('# sixes');\n",
    "plt.ylabel('probability');"
   ]
  },
  {
   "cell_type": "code",
   "execution_count": null,
   "metadata": {},
   "outputs": [],
   "source": [
    "# To calculate a (approximate) p-value, all we do is count\n",
    "print('p = ', np.sum(np.array(all_sixes) >= 7)/n_trials)"
   ]
  },
  {
   "cell_type": "code",
   "execution_count": null,
   "metadata": {},
   "outputs": [],
   "source": [
    "'''\n",
    "This cell has same code, but without all the plotting.\n",
    "If you actually wanted to run the hypothesis test,\n",
    "it would be this simple.\n",
    "'''\n",
    "n_trials = 10000\n",
    "n_rolls_per_trial = 24\n",
    "\n",
    "count = 0\n",
    "for i in range(n_trials):\n",
    "    rolls = np.random.randint(1, 7, size=n_rolls_per_trial)\n",
    "    num_sixes = np.sum(rolls == 6)\n",
    "    if num_sixes >= 7:\n",
    "        count += 1\n",
    "\n",
    "print('p = ', count/n_trials)"
   ]
  },
  {
   "cell_type": "markdown",
   "metadata": {},
   "source": [
    "How general is thls method?  As you as you can simulate the process you want to test, you can use the same idea.  The next snippet tests whether a coin that comes up as heads 23 times is likely to be fair.  You'll notice how similar it looks to the previous code. "
   ]
  },
  {
   "cell_type": "code",
   "execution_count": null,
   "metadata": {},
   "outputs": [],
   "source": [
    "n_trials = 10000\n",
    "n_flips_per_trial = 30\n",
    "\n",
    "count = 0\n",
    "for i in range(n_trials):\n",
    "    heads = np.random.randint(2, size=n_flips_per_trial)\n",
    "    num_heads = np.sum(heads == 1)\n",
    "    if num_heads >= 23:\n",
    "        count += 1\n",
    "\n",
    "print('p = ', count/n_trials)"
   ]
  }
 ],
 "metadata": {
  "kernelspec": {
   "display_name": "Python 3",
   "language": "python",
   "name": "python3"
  },
  "language_info": {
   "codemirror_mode": {
    "name": "ipython",
    "version": 3
   },
   "file_extension": ".py",
   "mimetype": "text/x-python",
   "name": "python",
   "nbconvert_exporter": "python",
   "pygments_lexer": "ipython3",
   "version": "3.7.2"
  }
 },
 "nbformat": 4,
 "nbformat_minor": 2
}
